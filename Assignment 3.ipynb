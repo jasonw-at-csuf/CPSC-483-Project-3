{
 "cells": [
  {
   "cell_type": "markdown",
   "metadata": {
    "id": "JyNmNmQO54NR"
   },
   "source": [
    "Objective: Text data classification\n",
    "\n",
    "In this assignment, you are asked to develop machine learning models that can classify Spam emails.\n",
    "\n",
    "Write Python programs to classify the emails by Spam or non-spam category using the **Naïve Bayes**, **KNN**, and **Support Vector Machine (SVM)** and assess the classifier performance. "
   ]
  },
  {
   "cell_type": "markdown",
   "metadata": {},
   "source": [
    "# Data Preprocessing"
   ]
  },
  {
   "cell_type": "code",
   "execution_count": 1,
   "metadata": {},
   "outputs": [],
   "source": [
    "# Importing the dataset\n",
    "import pandas as pd\n",
    "\n",
    "df = pd.read_csv(\n",
    "    \"https://raw.githubusercontent.com/jasonw-at-csuf/CPSC-483-Project-3/main/emails.csv\"\n",
    ")"
   ]
  },
  {
   "cell_type": "markdown",
   "metadata": {},
   "source": [
    "The first step we'll take to preprocess the data is to remove extraneous whitespace and to lowercase all the words"
   ]
  },
  {
   "cell_type": "code",
   "execution_count": 2,
   "metadata": {},
   "outputs": [],
   "source": [
    "df.text = (\n",
    "    df.text.str.replace(\"\\W+\", \" \", regex=True)\n",
    "    .str.replace(\"\\s+\", \" \", regex=True)\n",
    "    .str.strip()\n",
    ")\n",
    "df.text = df.text.str.lower()"
   ]
  },
  {
   "cell_type": "markdown",
   "metadata": {},
   "source": [
    "Next we'll use `nltk.corpus` to remove any stop words from the text"
   ]
  },
  {
   "cell_type": "code",
   "execution_count": 3,
   "metadata": {},
   "outputs": [
    {
     "data": {
      "text/html": [
       "<div>\n",
       "<style scoped>\n",
       "    .dataframe tbody tr th:only-of-type {\n",
       "        vertical-align: middle;\n",
       "    }\n",
       "\n",
       "    .dataframe tbody tr th {\n",
       "        vertical-align: top;\n",
       "    }\n",
       "\n",
       "    .dataframe thead th {\n",
       "        text-align: right;\n",
       "    }\n",
       "</style>\n",
       "<table border=\"1\" class=\"dataframe\">\n",
       "  <thead>\n",
       "    <tr style=\"text-align: right;\">\n",
       "      <th></th>\n",
       "      <th>text</th>\n",
       "      <th>spam</th>\n",
       "    </tr>\n",
       "  </thead>\n",
       "  <tbody>\n",
       "    <tr>\n",
       "      <th>0</th>\n",
       "      <td>subject naturally irresistible your corporate ...</td>\n",
       "      <td>1</td>\n",
       "    </tr>\n",
       "    <tr>\n",
       "      <th>1</th>\n",
       "      <td>subject the stock trading gunslinger fanny is ...</td>\n",
       "      <td>1</td>\n",
       "    </tr>\n",
       "    <tr>\n",
       "      <th>2</th>\n",
       "      <td>subject unbelievable new homes made easy im wa...</td>\n",
       "      <td>1</td>\n",
       "    </tr>\n",
       "    <tr>\n",
       "      <th>3</th>\n",
       "      <td>subject 4 color printing special request addit...</td>\n",
       "      <td>1</td>\n",
       "    </tr>\n",
       "    <tr>\n",
       "      <th>4</th>\n",
       "      <td>subject do not have money get software cds fro...</td>\n",
       "      <td>1</td>\n",
       "    </tr>\n",
       "    <tr>\n",
       "      <th>...</th>\n",
       "      <td>...</td>\n",
       "      <td>...</td>\n",
       "    </tr>\n",
       "    <tr>\n",
       "      <th>5723</th>\n",
       "      <td>subject re research and development charges to...</td>\n",
       "      <td>0</td>\n",
       "    </tr>\n",
       "    <tr>\n",
       "      <th>5724</th>\n",
       "      <td>subject re receipts from visit jim thanks agai...</td>\n",
       "      <td>0</td>\n",
       "    </tr>\n",
       "    <tr>\n",
       "      <th>5725</th>\n",
       "      <td>subject re enron case study update wow all on ...</td>\n",
       "      <td>0</td>\n",
       "    </tr>\n",
       "    <tr>\n",
       "      <th>5726</th>\n",
       "      <td>subject re interest david please call shirley ...</td>\n",
       "      <td>0</td>\n",
       "    </tr>\n",
       "    <tr>\n",
       "      <th>5727</th>\n",
       "      <td>subject news aurora 5 2 update aurora version ...</td>\n",
       "      <td>0</td>\n",
       "    </tr>\n",
       "  </tbody>\n",
       "</table>\n",
       "<p>5728 rows × 2 columns</p>\n",
       "</div>"
      ],
      "text/plain": [
       "                                                   text  spam\n",
       "0     subject naturally irresistible your corporate ...     1\n",
       "1     subject the stock trading gunslinger fanny is ...     1\n",
       "2     subject unbelievable new homes made easy im wa...     1\n",
       "3     subject 4 color printing special request addit...     1\n",
       "4     subject do not have money get software cds fro...     1\n",
       "...                                                 ...   ...\n",
       "5723  subject re research and development charges to...     0\n",
       "5724  subject re receipts from visit jim thanks agai...     0\n",
       "5725  subject re enron case study update wow all on ...     0\n",
       "5726  subject re interest david please call shirley ...     0\n",
       "5727  subject news aurora 5 2 update aurora version ...     0\n",
       "\n",
       "[5728 rows x 2 columns]"
      ]
     },
     "execution_count": 3,
     "metadata": {},
     "output_type": "execute_result"
    }
   ],
   "source": [
    "from nltk.corpus import stopwords\n",
    "\n",
    "stop = stopwords.words(\"english\")\n",
    "\n",
    "df.text.apply(lambda x: \" \".join([word for word in x.split() if word not in (stop)]))\n",
    "df"
   ]
  },
  {
   "cell_type": "markdown",
   "metadata": {},
   "source": [
    "Now we split the dataset into testing and training data"
   ]
  },
  {
   "cell_type": "code",
   "execution_count": 4,
   "metadata": {},
   "outputs": [],
   "source": [
    "# split testing and training data\n",
    "from sklearn.model_selection import train_test_split\n",
    "\n",
    "X_train, X_test, y_train, y_test = train_test_split(df.text.values, df.spam.values)"
   ]
  },
  {
   "cell_type": "markdown",
   "metadata": {},
   "source": [
    "We'll use Scikit-Learn's `CountVectorizer` to convert our words into vectors based on their word counts in messages"
   ]
  },
  {
   "cell_type": "code",
   "execution_count": 5,
   "metadata": {},
   "outputs": [],
   "source": [
    "from sklearn.feature_extraction.text import CountVectorizer\n",
    "\n",
    "# extract features\n",
    "vectorizer = CountVectorizer(ngram_range=(1, 2)).fit(X_train)\n",
    "X_train_vectorized = vectorizer.transform(X_train)"
   ]
  },
  {
   "cell_type": "markdown",
   "metadata": {},
   "source": [
    "# Method 1: Naïve Bayes"
   ]
  },
  {
   "cell_type": "code",
   "execution_count": 6,
   "metadata": {},
   "outputs": [],
   "source": [
    "from sklearn.naive_bayes import MultinomialNB\n",
    "\n",
    "nb_model = MultinomialNB(alpha=0.1)\n",
    "nb_model.fit(X_train_vectorized, y_train)\n",
    "predictions = nb_model.predict(vectorizer.transform(X_test))"
   ]
  },
  {
   "cell_type": "markdown",
   "metadata": {},
   "source": [
    "## Performance Metrics"
   ]
  },
  {
   "cell_type": "markdown",
   "metadata": {},
   "source": [
    "### Confusion Matrix"
   ]
  },
  {
   "cell_type": "code",
   "execution_count": 7,
   "metadata": {},
   "outputs": [
    {
     "data": {
      "image/png": "[encoded data removed]",
      "text/plain": [
       "<Figure size 640x480 with 2 Axes>"
      ]
     },
     "metadata": {},
     "output_type": "display_data"
    }
   ],
   "source": [
    "from sklearn.metrics import confusion_matrix, ConfusionMatrixDisplay, roc_curve\n",
    "\n",
    "import matplotlib.pyplot as plt\n",
    "\n",
    "y_pred = nb_model.predict(vectorizer.transform(X_test))\n",
    "cm = confusion_matrix(y_test, y_pred)\n",
    "disp = ConfusionMatrixDisplay(confusion_matrix=cm)\n",
    "disp.plot()\n",
    "plt.show()"
   ]
  },
  {
   "cell_type": "markdown",
   "metadata": {},
   "source": [
    "### ROC Curve"
   ]
  },
  {
   "cell_type": "code",
   "execution_count": 8,
   "metadata": {},
   "outputs": [
    {
     "data": {
      "image/png": "[encoded data removed]",
      "text/plain": [
       "<Figure size 640x480 with 1 Axes>"
      ]
     },
     "metadata": {},
     "output_type": "display_data"
    }
   ],
   "source": [
    "from sklearn.metrics import RocCurveDisplay\n",
    "\n",
    "import matplotlib.pyplot as plt\n",
    "\n",
    "fig = RocCurveDisplay.from_estimator(nb_model, vectorizer.transform(X_test), y_test)\n",
    "plt.show()"
   ]
  },
  {
   "cell_type": "markdown",
   "metadata": {},
   "source": [
    "### Precision and Recall"
   ]
  },
  {
   "cell_type": "code",
   "execution_count": 9,
   "metadata": {},
   "outputs": [
    {
     "data": {
      "text/html": [
       "<div>\n",
       "<style scoped>\n",
       "    .dataframe tbody tr th:only-of-type {\n",
       "        vertical-align: middle;\n",
       "    }\n",
       "\n",
       "    .dataframe tbody tr th {\n",
       "        vertical-align: top;\n",
       "    }\n",
       "\n",
       "    .dataframe thead th {\n",
       "        text-align: right;\n",
       "    }\n",
       "</style>\n",
       "<table border=\"1\" class=\"dataframe\">\n",
       "  <thead>\n",
       "    <tr style=\"text-align: right;\">\n",
       "      <th></th>\n",
       "      <th>Classifier</th>\n",
       "      <th>Accuracy</th>\n",
       "      <th>Sensitivity/Recall</th>\n",
       "      <th>Specificity</th>\n",
       "      <th>Precision</th>\n",
       "    </tr>\n",
       "  </thead>\n",
       "  <tbody>\n",
       "    <tr>\n",
       "      <th>0</th>\n",
       "      <td>Naive Bayes</td>\n",
       "      <td>98.952514</td>\n",
       "      <td>0.973054</td>\n",
       "      <td>0.994536</td>\n",
       "      <td>0.981873</td>\n",
       "    </tr>\n",
       "  </tbody>\n",
       "</table>\n",
       "</div>"
      ],
      "text/plain": [
       "    Classifier   Accuracy  Sensitivity/Recall  Specificity  Precision\n",
       "0  Naive Bayes  98.952514            0.973054     0.994536   0.981873"
      ]
     },
     "execution_count": 9,
     "metadata": {},
     "output_type": "execute_result"
    }
   ],
   "source": [
    "tn, fp, fn, tp = cm.ravel()\n",
    "nb_perf = pd.DataFrame.from_dict(\n",
    "    {\n",
    "        \"Classifier\": \"Naive Bayes\",\n",
    "        \"Accuracy\": 100 * sum(predictions == y_test) / len(predictions),\n",
    "        \"Sensitivity/Recall\": [tp / (tp + fn)],\n",
    "        \"Specificity\": [tn / (fp + tn)],\n",
    "        \"Precision\": [tp / (tp + fp)],\n",
    "    }\n",
    ")\n",
    "nb_perf"
   ]
  },
  {
   "cell_type": "markdown",
   "metadata": {},
   "source": [
    "# Method 2: Support Vector Machine (SVM)"
   ]
  },
  {
   "cell_type": "code",
   "execution_count": 10,
   "metadata": {},
   "outputs": [],
   "source": [
    "from sklearn.svm import SVC\n",
    "\n",
    "svm_model = SVC(kernel=\"linear\", random_state=0)\n",
    "svm_model.fit(X_train_vectorized, y_train)\n",
    "predictions = svm_model.predict(vectorizer.transform(X_test))"
   ]
  },
  {
   "cell_type": "markdown",
   "metadata": {},
   "source": [
    "## Performance Metrics"
   ]
  },
  {
   "cell_type": "markdown",
   "metadata": {},
   "source": [
    "### Confusion Matrix"
   ]
  },
  {
   "cell_type": "code",
   "execution_count": 11,
   "metadata": {},
   "outputs": [
    {
     "data": {
      "image/png": "[encoded data removed]",
      "text/plain": [
       "<Figure size 640x480 with 2 Axes>"
      ]
     },
     "metadata": {},
     "output_type": "display_data"
    }
   ],
   "source": [
    "y_pred = svm_model.predict(vectorizer.transform(X_test))\n",
    "cm = confusion_matrix(y_test, y_pred)\n",
    "disp = ConfusionMatrixDisplay(confusion_matrix=cm)\n",
    "disp.plot()\n",
    "plt.show()"
   ]
  },
  {
   "cell_type": "markdown",
   "metadata": {},
   "source": [
    "### ROC Curve"
   ]
  },
  {
   "cell_type": "code",
   "execution_count": 12,
   "metadata": {},
   "outputs": [
    {
     "data": {
      "image/png": "[encoded data removed]",
      "text/plain": [
       "<Figure size 640x480 with 1 Axes>"
      ]
     },
     "metadata": {},
     "output_type": "display_data"
    }
   ],
   "source": [
    "from sklearn.metrics import RocCurveDisplay\n",
    "\n",
    "import matplotlib.pyplot as plt\n",
    "\n",
    "fig = RocCurveDisplay.from_estimator(nb_model, vectorizer.transform(X_test), y_test)\n",
    "fig = RocCurveDisplay.from_estimator(\n",
    "    svm_model, vectorizer.transform(X_test), y_test, ax=fig.ax_\n",
    ")\n",
    "plt.show()"
   ]
  },
  {
   "cell_type": "markdown",
   "metadata": {},
   "source": [
    "### Precision and Recall"
   ]
  },
  {
   "cell_type": "code",
   "execution_count": 13,
   "metadata": {},
   "outputs": [
    {
     "data": {
      "text/html": [
       "<div>\n",
       "<style scoped>\n",
       "    .dataframe tbody tr th:only-of-type {\n",
       "        vertical-align: middle;\n",
       "    }\n",
       "\n",
       "    .dataframe tbody tr th {\n",
       "        vertical-align: top;\n",
       "    }\n",
       "\n",
       "    .dataframe thead th {\n",
       "        text-align: right;\n",
       "    }\n",
       "</style>\n",
       "<table border=\"1\" class=\"dataframe\">\n",
       "  <thead>\n",
       "    <tr style=\"text-align: right;\">\n",
       "      <th></th>\n",
       "      <th>Classifier</th>\n",
       "      <th>Accuracy</th>\n",
       "      <th>Sensitivity/Recall</th>\n",
       "      <th>Specificity</th>\n",
       "      <th>Precision</th>\n",
       "    </tr>\n",
       "  </thead>\n",
       "  <tbody>\n",
       "    <tr>\n",
       "      <th>0</th>\n",
       "      <td>Naive Bayes</td>\n",
       "      <td>98.952514</td>\n",
       "      <td>0.973054</td>\n",
       "      <td>0.994536</td>\n",
       "      <td>0.981873</td>\n",
       "    </tr>\n",
       "    <tr>\n",
       "      <th>0</th>\n",
       "      <td>SVM</td>\n",
       "      <td>98.533520</td>\n",
       "      <td>0.970060</td>\n",
       "      <td>0.989982</td>\n",
       "      <td>0.967164</td>\n",
       "    </tr>\n",
       "  </tbody>\n",
       "</table>\n",
       "</div>"
      ],
      "text/plain": [
       "    Classifier   Accuracy  Sensitivity/Recall  Specificity  Precision\n",
       "0  Naive Bayes  98.952514            0.973054     0.994536   0.981873\n",
       "0          SVM  98.533520            0.970060     0.989982   0.967164"
      ]
     },
     "execution_count": 13,
     "metadata": {},
     "output_type": "execute_result"
    }
   ],
   "source": [
    "tn, fp, fn, tp = cm.ravel()\n",
    "\n",
    "svm_perf = pd.DataFrame.from_dict(\n",
    "    {\n",
    "        \"Classifier\": \"SVM\",\n",
    "        \"Accuracy\": 100 * sum(predictions == y_test) / len(predictions),\n",
    "        \"Sensitivity/Recall\": [tp / (tp + fn)],\n",
    "        \"Specificity\": [tn / (fp + tn)],\n",
    "        \"Precision\": [tp / (tp + fp)],\n",
    "    }\n",
    ")\n",
    "pd.concat([nb_perf, svm_perf])"
   ]
  },
  {
   "cell_type": "markdown",
   "metadata": {},
   "source": [
    "# Method 3: K-Nearest Neighbors"
   ]
  },
  {
   "cell_type": "code",
   "execution_count": 14,
   "metadata": {},
   "outputs": [],
   "source": [
    "from sklearn.neighbors import KNeighborsClassifier\n",
    "\n",
    "knn_model = KNeighborsClassifier(n_neighbors=15)\n",
    "knn_model.fit(X_train_vectorized, y_train)\n",
    "predictions = knn_model.predict(vectorizer.transform(X_test))"
   ]
  },
  {
   "cell_type": "markdown",
   "metadata": {},
   "source": [
    "## Performance Metrics"
   ]
  },
  {
   "cell_type": "markdown",
   "metadata": {},
   "source": [
    "### Confusion Matrix"
   ]
  },
  {
   "cell_type": "code",
   "execution_count": 15,
   "metadata": {},
   "outputs": [
    {
     "data": {
      "image/png": "[encoded data removed]",
      "text/plain": [
       "<Figure size 640x480 with 2 Axes>"
      ]
     },
     "metadata": {},
     "output_type": "display_data"
    }
   ],
   "source": [
    "y_pred = knn_model.predict(vectorizer.transform(X_test))\n",
    "cm = confusion_matrix(y_test, y_pred)\n",
    "disp = ConfusionMatrixDisplay(confusion_matrix=cm)\n",
    "disp.plot()\n",
    "plt.show()"
   ]
  },
  {
   "cell_type": "markdown",
   "metadata": {},
   "source": [
    "### ROC Curve"
   ]
  },
  {
   "cell_type": "code",
   "execution_count": 16,
   "metadata": {},
   "outputs": [
    {
     "data": {
      "image/png": "[encoded data removed]",
      "text/plain": [
       "<Figure size 640x480 with 1 Axes>"
      ]
     },
     "metadata": {},
     "output_type": "display_data"
    }
   ],
   "source": [
    "from sklearn.metrics import RocCurveDisplay\n",
    "\n",
    "import matplotlib.pyplot as plt\n",
    "\n",
    "fig = RocCurveDisplay.from_estimator(nb_model, vectorizer.transform(X_test), y_test)\n",
    "fig = RocCurveDisplay.from_estimator(\n",
    "    svm_model, vectorizer.transform(X_test), y_test, ax=fig.ax_\n",
    ")\n",
    "fig = RocCurveDisplay.from_estimator(\n",
    "    knn_model, vectorizer.transform(X_test), y_test, ax=fig.ax_\n",
    ")\n",
    "plt.show()"
   ]
  },
  {
   "cell_type": "markdown",
   "metadata": {},
   "source": [
    "### Precision and Recall"
   ]
  },
  {
   "cell_type": "code",
   "execution_count": 17,
   "metadata": {},
   "outputs": [
    {
     "data": {
      "text/html": [
       "<div>\n",
       "<style scoped>\n",
       "    .dataframe tbody tr th:only-of-type {\n",
       "        vertical-align: middle;\n",
       "    }\n",
       "\n",
       "    .dataframe tbody tr th {\n",
       "        vertical-align: top;\n",
       "    }\n",
       "\n",
       "    .dataframe thead th {\n",
       "        text-align: right;\n",
       "    }\n",
       "</style>\n",
       "<table border=\"1\" class=\"dataframe\">\n",
       "  <thead>\n",
       "    <tr style=\"text-align: right;\">\n",
       "      <th></th>\n",
       "      <th>Classifier</th>\n",
       "      <th>Accuracy</th>\n",
       "      <th>Sensitivity/Recall</th>\n",
       "      <th>Specificity</th>\n",
       "      <th>Precision</th>\n",
       "    </tr>\n",
       "  </thead>\n",
       "  <tbody>\n",
       "    <tr>\n",
       "      <th>0</th>\n",
       "      <td>Naive Bayes</td>\n",
       "      <td>98.952514</td>\n",
       "      <td>0.973054</td>\n",
       "      <td>0.994536</td>\n",
       "      <td>0.981873</td>\n",
       "    </tr>\n",
       "    <tr>\n",
       "      <th>0</th>\n",
       "      <td>SVM</td>\n",
       "      <td>98.533520</td>\n",
       "      <td>0.970060</td>\n",
       "      <td>0.989982</td>\n",
       "      <td>0.967164</td>\n",
       "    </tr>\n",
       "    <tr>\n",
       "      <th>0</th>\n",
       "      <td>KNN</td>\n",
       "      <td>85.544693</td>\n",
       "      <td>0.401198</td>\n",
       "      <td>0.993625</td>\n",
       "      <td>0.950355</td>\n",
       "    </tr>\n",
       "  </tbody>\n",
       "</table>\n",
       "</div>"
      ],
      "text/plain": [
       "    Classifier   Accuracy  Sensitivity/Recall  Specificity  Precision\n",
       "0  Naive Bayes  98.952514            0.973054     0.994536   0.981873\n",
       "0          SVM  98.533520            0.970060     0.989982   0.967164\n",
       "0          KNN  85.544693            0.401198     0.993625   0.950355"
      ]
     },
     "execution_count": 17,
     "metadata": {},
     "output_type": "execute_result"
    }
   ],
   "source": [
    "tn, fp, fn, tp = cm.ravel()\n",
    "\n",
    "knn_perf = pd.DataFrame.from_dict(\n",
    "    {\n",
    "        \"Classifier\": \"KNN\",\n",
    "        \"Accuracy\": 100 * sum(predictions == y_test) / len(predictions),\n",
    "        \"Sensitivity/Recall\": [tp / (tp + fn)],\n",
    "        \"Specificity\": [tn / (fp + tn)],\n",
    "        \"Precision\": [tp / (tp + fp)],\n",
    "    }\n",
    ")\n",
    "pd.concat([nb_perf, svm_perf, knn_perf])"
   ]
  },
  {
   "cell_type": "markdown",
   "metadata": {},
   "source": [
    "# Real World Test\n",
    "\n",
    "Just for fun, I collected some actual spam from my phone text messages and some actual emails I received to see how our models perform in classifying them"
   ]
  },
  {
   "cell_type": "code",
   "execution_count": 18,
   "metadata": {},
   "outputs": [
    {
     "data": {
      "text/html": [
       "<div>\n",
       "<style scoped>\n",
       "    .dataframe tbody tr th:only-of-type {\n",
       "        vertical-align: middle;\n",
       "    }\n",
       "\n",
       "    .dataframe tbody tr th {\n",
       "        vertical-align: top;\n",
       "    }\n",
       "\n",
       "    .dataframe thead th {\n",
       "        text-align: right;\n",
       "    }\n",
       "</style>\n",
       "<table border=\"1\" class=\"dataframe\">\n",
       "  <thead>\n",
       "    <tr style=\"text-align: right;\">\n",
       "      <th></th>\n",
       "      <th>message</th>\n",
       "      <th>Naive Bayes</th>\n",
       "      <th>SVM</th>\n",
       "      <th>KNN</th>\n",
       "    </tr>\n",
       "  </thead>\n",
       "  <tbody>\n",
       "    <tr>\n",
       "      <th>0</th>\n",
       "      <td>&lt;C h a s e&gt; For your security, we have t</td>\n",
       "      <td>spam</td>\n",
       "      <td>spam</td>\n",
       "      <td>not spam</td>\n",
       "    </tr>\n",
       "    <tr>\n",
       "      <th>1</th>\n",
       "      <td>&lt;#&gt;B0A- We have rejected a request autho</td>\n",
       "      <td>spam</td>\n",
       "      <td>not spam</td>\n",
       "      <td>not spam</td>\n",
       "    </tr>\n",
       "    <tr>\n",
       "      <th>2</th>\n",
       "      <td>HUGE SAVINGS!!! Life insurance, Final Ex</td>\n",
       "      <td>spam</td>\n",
       "      <td>not spam</td>\n",
       "      <td>not spam</td>\n",
       "    </tr>\n",
       "    <tr>\n",
       "      <th>3</th>\n",
       "      <td>Wanna be an entrepreneur? Tired of yout</td>\n",
       "      <td>spam</td>\n",
       "      <td>spam</td>\n",
       "      <td>not spam</td>\n",
       "    </tr>\n",
       "    <tr>\n",
       "      <th>4</th>\n",
       "      <td>Visa Processing Alerts! Your BOA EDD Pre</td>\n",
       "      <td>spam</td>\n",
       "      <td>not spam</td>\n",
       "      <td>not spam</td>\n",
       "    </tr>\n",
       "    <tr>\n",
       "      <th>5</th>\n",
       "      <td>Jaylen.. Remember me? Its Rylee! We made</td>\n",
       "      <td>spam</td>\n",
       "      <td>not spam</td>\n",
       "      <td>not spam</td>\n",
       "    </tr>\n",
       "    <tr>\n",
       "      <th>6</th>\n",
       "      <td>[US-PS] We cannot deliver your package d</td>\n",
       "      <td>spam</td>\n",
       "      <td>not spam</td>\n",
       "      <td>not spam</td>\n",
       "    </tr>\n",
       "    <tr>\n",
       "      <th>7</th>\n",
       "      <td>Y.our paymen.t for last mo.nth was recei</td>\n",
       "      <td>spam</td>\n",
       "      <td>not spam</td>\n",
       "      <td>not spam</td>\n",
       "    </tr>\n",
       "    <tr>\n",
       "      <th>8</th>\n",
       "      <td>The Chancellor's Doctoral Incentive Prog</td>\n",
       "      <td>not spam</td>\n",
       "      <td>not spam</td>\n",
       "      <td>not spam</td>\n",
       "    </tr>\n",
       "    <tr>\n",
       "      <th>9</th>\n",
       "      <td>Good day! Thank you for expressing inter</td>\n",
       "      <td>not spam</td>\n",
       "      <td>not spam</td>\n",
       "      <td>not spam</td>\n",
       "    </tr>\n",
       "    <tr>\n",
       "      <th>10</th>\n",
       "      <td>Attention ECS Students! Amazon Software</td>\n",
       "      <td>not spam</td>\n",
       "      <td>not spam</td>\n",
       "      <td>not spam</td>\n",
       "    </tr>\n",
       "    <tr>\n",
       "      <th>11</th>\n",
       "      <td>CSUF's International Education Week (IEW</td>\n",
       "      <td>not spam</td>\n",
       "      <td>spam</td>\n",
       "      <td>not spam</td>\n",
       "    </tr>\n",
       "    <tr>\n",
       "      <th>12</th>\n",
       "      <td>FREE Latin Bistro Dinner &amp; CSUF Prizes.</td>\n",
       "      <td>not spam</td>\n",
       "      <td>not spam</td>\n",
       "      <td>not spam</td>\n",
       "    </tr>\n",
       "    <tr>\n",
       "      <th>13</th>\n",
       "      <td>Please join the Mental Health &amp; Wellness</td>\n",
       "      <td>not spam</td>\n",
       "      <td>not spam</td>\n",
       "      <td>not spam</td>\n",
       "    </tr>\n",
       "  </tbody>\n",
       "</table>\n",
       "</div>"
      ],
      "text/plain": [
       "                                     message Naive Bayes       SVM       KNN\n",
       "0   <C h a s e> For your security, we have t        spam      spam  not spam\n",
       "1   <#>B0A- We have rejected a request autho        spam  not spam  not spam\n",
       "2   HUGE SAVINGS!!! Life insurance, Final Ex        spam  not spam  not spam\n",
       "3   Wanna be an entrepreneur? Tired of yout         spam      spam  not spam\n",
       "4   Visa Processing Alerts! Your BOA EDD Pre        spam  not spam  not spam\n",
       "5   Jaylen.. Remember me? Its Rylee! We made        spam  not spam  not spam\n",
       "6   [US-PS] We cannot deliver your package d        spam  not spam  not spam\n",
       "7   Y.our paymen.t for last mo.nth was recei        spam  not spam  not spam\n",
       "8   The Chancellor's Doctoral Incentive Prog    not spam  not spam  not spam\n",
       "9   Good day! Thank you for expressing inter    not spam  not spam  not spam\n",
       "10  Attention ECS Students! Amazon Software     not spam  not spam  not spam\n",
       "11  CSUF's International Education Week (IEW    not spam      spam  not spam\n",
       "12  FREE Latin Bistro Dinner & CSUF Prizes.     not spam  not spam  not spam\n",
       "13  Please join the Mental Health & Wellness    not spam  not spam  not spam"
      ]
     },
     "execution_count": 18,
     "metadata": {},
     "output_type": "execute_result"
    }
   ],
   "source": [
    "with open(\"messages.txt\") as f:\n",
    "    messages = f.readlines()\n",
    "\n",
    "classifiers = {\n",
    "    \"Naive Bayes\": nb_model,\n",
    "    \"SVM\": svm_model,\n",
    "    \"KNN\": knn_model,\n",
    "}\n",
    "\n",
    "results = pd.DataFrame.from_dict(\n",
    "    {\n",
    "        name: [\n",
    "            \"spam\" if result else \"not spam\"\n",
    "            for result in classifier.predict(vectorizer.transform(messages))\n",
    "        ]\n",
    "        for name, classifier in classifiers.items()\n",
    "    }\n",
    ")\n",
    "results.insert(0, \"message\", [message[:40] for message in messages], True)\n",
    "results"
   ]
  },
  {
   "cell_type": "markdown",
   "metadata": {},
   "source": [
    "Oddly enough, despite the KNN having an 87% accuracy with our testing dataset, it was not able to flag any of my real world spam messages as spam and the Naive Bayes classifier was able to correctly classify all messages"
   ]
  },
  {
   "cell_type": "markdown",
   "metadata": {},
   "source": [
    "# Conclusion\n",
    "\n",
    "Based on our performance analysis of these 3 classifiers, we see that in this case specifically the Naive Bayes classifier outperforms both the SVM and K-Nearest Neighbors classifiers in all metrics including the real world test. SVM however, does have a similarly high accuracy compared to Naive Bayes."
   ]
  }
 ],
 "metadata": {
  "authors": [
   {
    "name": "Jason Wong"
   }
  ],
  "colab": {
   "collapsed_sections": [],
   "provenance": []
  },
  "kernelspec": {
   "display_name": "Python 3 (ipykernel)",
   "language": "python",
   "name": "python3"
  },
  "language_info": {
   "codemirror_mode": {
    "name": "ipython",
    "version": 3
   },
   "file_extension": ".py",
   "mimetype": "text/x-python",
   "name": "python",
   "nbconvert_exporter": "python",
   "pygments_lexer": "ipython3",
   "version": "3.9.7"
  },
  "toc-autonumbering": true,
  "toc-showmarkdowntxt": true
 },
 "nbformat": 4,
 "nbformat_minor": 4
}
